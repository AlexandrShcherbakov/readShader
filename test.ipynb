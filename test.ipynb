{
 "metadata": {
  "language_info": {
   "codemirror_mode": {
    "name": "ipython",
    "version": 3
   },
   "file_extension": ".py",
   "mimetype": "text/x-python",
   "name": "python",
   "nbconvert_exporter": "python",
   "pygments_lexer": "ipython3",
   "version": "3.6.3"
  },
  "orig_nbformat": 2,
  "kernelspec": {
   "name": "python3",
   "display_name": "Python 3.6.3 64-bit"
  },
  "interpreter": {
   "hash": "5aff0f4242e434ecf1c75fb5b293d4fa39ddc1cc7e79f0726434658d3f3938cc"
  }
 },
 "nbformat": 4,
 "nbformat_minor": 2,
 "cells": [
  {
   "cell_type": "code",
   "execution_count": 12,
   "metadata": {},
   "outputs": [
    {
     "output_type": "stream",
     "name": "stdout",
     "text": [
      "uint2 var_19;\nfloat2 var_0 = asfloat(vThreadID.xy);\nuint flattenIdx = asuint((var_0.y * g_particle_instance_tex_width.x + var_0.x));\nuint2 dispatchThreadId = vThreadID.xy;\nint particleId = asint(g_particle_instances[uint3(dispatchThreadId.x, dispatchThreadId.y, 0)].x);\nif ((particleId != -0x1)) {\n  float3 particlePos = g_particle_instances[uint3(dispatchThreadId.x, dispatchThreadId.y, 1)].xyz;\n  float var_10 = asfloat(particleId);\n  float var_11 = var_10 * g_emitter_instance_tex_width.z;\n  float var_13 = (var_11 >= -var_11) ? g_emitter_instance_tex_width.z : -g_emitter_instance_tex_width.z;\n  float var_17 = frac(1.0 / var_13 * var_10) * var_13;\n  float var_18 = var_10 / g_emitter_instance_tex_width.y;\n  var_19 = asuint(float2(var_17.x, var_18.x));\n  uint var_23 = g_emitter_constant_buffer_prepare_sortdata[asint(g_emitter_instances[uint3(var_19.x, var_19.y, 3)].x) + 0x0].x;\n  if ((var_23 & 0x100000)) {\n    float3 eyeToPart = particlePos + -vfx_camera_position.xyz;\n    var_19 = min(length(eyeToPart), 999999.0) + -1000000.0;\n    InterlockedAdd(g_draw_indirect_buffer[0x10], 0x1);\n  } else {\n    if ((var_23 & 0x400000)) {\n      var_19 = min((particlePos.y * 10000000000.0 + particlePos.x), 1.0000000200408773e+20) + -1.0000000200408773e+20;\n      InterlockedAdd(g_draw_indirect_buffer[0x0], 0x1);\n    } else {\n      float3 var_34 = particlePos + -vfx_camera_position.yzw;\n      var_19 = min(length(var_34), 999999.0);\n      InterlockedAdd(g_draw_indirect_buffer[0x20], 0x1);\n    }\n  }\n} else {\n  var_19 = 1.0000000200408773e+20;\n}\nfloat var_39 = asfloat(flattenIdx);\ng_rw_sorted_data_buffer[flattenIdx + 0x0].xy = float2(var_19.x, var_39.x);\nreturn\n"
     ]
    }
   ],
   "source": [
    "import readShader\n",
    "import importlib\n",
    "importlib.reload(readShader)\n",
    "\n",
    "inputs = {\n",
    "    \"g_particle_instance_tex_width\": readShader._FLOAT,\n",
    "    \"g_emitter_instance_tex_width\": readShader._FLOAT,\n",
    "    \"vfx_camera_position\": readShader._FLOAT,\n",
    "}\n",
    "var_names = {\n",
    "    \"var_2\": \"flattenIdx\",\n",
    "    \"var_3\": \"dispatchThreadId\",\n",
    "    \"var_6\": \"particleId\",\n",
    "    \"var_9\": \"particlePos\",\n",
    "    \"var_25\": \"eyeToPart\"\n",
    "}\n",
    "with open(\"shaders/warhammer1.txt\", \"r\") as fin:\n",
    "    hlsl_code = fin.read()\n",
    "    print(readShader.dxil_transform(hlsl_code, inputs, var_names))"
   ]
  },
  {
   "cell_type": "code",
   "execution_count": 13,
   "metadata": {
    "tags": []
   },
   "outputs": [
    {
     "output_type": "stream",
     "name": "stdout",
     "text": [
      "int2 var_336;\nuint2 texelCoord = asuint((v0.xy + float2(-0.5, -0.5)));\nfloat4 partData0 = g_particle_instances[uint4(texelCoord.x, texelCoord.y, 0, 0)].xyzw;\nfloat4 partData1 = g_particle_instances[uint4(texelCoord.x, texelCoord.y, 1, 0)].xyzw;\nfloat4 partData2 = g_particle_instances[uint4(texelCoord.x, texelCoord.y, 2, 0)].xyzw;\nfloat4 partData3 = g_particle_instances[uint4(texelCoord.x, texelCoord.y, 3, 0)].xyzw;\nfloat4 partData4 = g_particle_instances[uint4(texelCoord.x, texelCoord.y, 4, 0)].xyzw;\nint2 emitter_id = asint(partData0.zx);\nif ((emitter_id.y != -0x1)) {\n  float emitter_idx = asfloat(emitter_id.y);\n  float var_14 = emitter_idx * g_emitter_instance_tex_width.z;\n  float var_16 = (var_14 >= -var_14) ? g_emitter_instance_tex_width.z : -g_emitter_instance_tex_width.z;\n  float var_20 = var_16 * frac(emitter_idx * 1.0 / var_16);\n  float var_21 = emitter_idx / g_emitter_instance_tex_width.x;\n  uint2 emitterTc = asuint(float2(var_20.x, var_21.x));\n  float4 emitData1 = g_emitter_instances[uint4(emitterTc.x, emitterTc.y, 0, 0)].xyzw;\n  float4 emitData6 = g_emitter_instances[uint4(emitterTc.x, emitterTc.y, 3, 0)].xyzw;\n  int var_26 = asint(emitData6.x);\n  uint2 particles_loop_params = g_emitter_constant_buffer_shared[var_26 + 0x0].xy;\n  float2 var_29 = particles_loop_params * partData2.ww + partData1.ww;\n  float var_30 = -var_29.x + var_29.y;\n  float var_34 = (emitData1.w + -var_29.x) / var_30;\n  float var_36 = frac(abs(var_34));\n  float var_45 = (particles_loop_params.y != 0x0) ? ((emitData6.w == 0x0) ? ((emitData1.w < var_29.x) ? emitData1.w : (((var_34 >= -var_34) ? var_36 : -var_36) * var_30 + var_29.x)) : (floor((emitData6.w + -var_29.x) / var_30) * var_30 + emitData1.w)) : emitData1.w;\n  if (((var_45 >= partData1.w) & ((partData1.w + partData2.w) >= var_45))) {\n    float4 var_51 = g_emitter_instances[uint4(emitterTc.x, emitterTc.y, 1, 0)].xyzw;\n    float4 var_53 = g_emitter_instances[uint4(emitterTc.x, emitterTc.y, 6, 0)].xyzw;\n    uint4 particle_following_terrain__emt_position = g_emitter_constant_buffer_simulation[var_26 + 0x0].xyzw;\n    uint4 xy__effected_by_wind_factor__wind_variance_factor = g_emitter_constant_buffer_simulation[var_26 + 0x20].xyzw;\n    uint4 decel_start_time__decel_factor = g_emitter_constant_buffer_simulation[var_26 + 0x30].xyzw;\n    uint4 particle_following_emitter_mode__recycleclipped_box = g_emitter_constant_buffer_simulation[var_26 + 0x40].xyzw;\n    uint4 vectorfieldstrength_params__vectorfield_id__vectorfield_size = g_emitter_constant_buffer_simulation[var_26 + 0x50].xyzw;\n    uint4 vectorfield_position__skip_position_update_flag = g_emitter_constant_buffer_simulation[var_26 + 0x70].xyzw;\n    float3 var_60 = wind_variance_dir.xyz * xy__effected_by_wind_factor__wind_variance_factor.www + wind_velocity.xyz;\n    float3 windVel = xy__effected_by_wind_factor__wind_variance_factor.zzz * var_60;\n    float var_62 = dot(windVel, windVel);\n    float3 var_65 = partData2.xyz / emitData6.yyy;\n    float3 windDir = rsqrt(var_62) * windVel;\n    float var_73 = saturate(var_51.w * 30.0);\n    float3 var_77 = frac(partData0.yyy * float3(1213.0, 3151.0, 2003.0));\n    float2 deceleration = var_77.xy * (-decel_start_time__decel_factor.zx + decel_start_time__decel_factor.wy) + decel_start_time__decel_factor.zx;\n    float var_83 = partData2.w + 0.0;\n    float var_84 = saturate((var_45 + (deceleration.y * emitData6.y + partData1.w)) / var_83);\n    float var_86 = dot(var_65, var_65);\n    float var_92 = var_51.w * var_84 * deceleration.x * var_86;\n    float var_94 = min(sqrt(var_86), max(var_92, var_92));\n    float var_104 = (-partData1.w + var_45) / var_83;\n    if ((0x0 < vectorfieldstrength_params__vectorfield_id__vectorfield_size.w)) {\n      float4 emitData4 = g_emitter_instances[uint4(emitterTc.x, emitterTc.y, 4, 0)].xyzw;\n      uint4 emt_rotation = g_emitter_constant_buffer_simulation[var_26 + 0x10].xyzw;\n      uint4 vectorfield_orientation = g_emitter_constant_buffer_simulation[var_26 + 0x60].xyzw;\n      float4 var_112 = partData1.zyzx + -emitData1.zyzx;\n      float var_115 = -var_112.x * emitData4.y + dot(var_112.yw, emitData4.zw);\n      float var_117 = var_112.z * emitData4.x + (-var_112.w * emitData4.z + emitData4.w * var_112.y);\n      float2 var_118 = emitData4.xy * var_112.yy;\n      float var_120 = var_112.z * emitData4.w + (var_112.w * emitData4.y + -var_118.x);\n      float var_122 = -var_112.z * emitData4.z + (-var_112.w * emitData4.x + -var_118.y);\n      float var_128 = emitData4.z * var_117 + (-emitData4.y * var_120 + (emitData4.w * var_115 + var_122 * -emitData4.x));\n      float var_131 = -emitData4.z * var_115 + (-emitData4.y * var_122 + (emitData4.w * var_117 + var_120 * -emitData4.x));\n      float2 var_134 = -emitData4.zz * var_122.xx + (emitData4.y * var_115 + (emitData4.w * var_120 + var_117 * -emitData4.x));\n      uint4 var_135 = -particle_following_terrain__emt_position.wzwy + float4(var_134.x, var_131.x, var_134.y, var_128.x);\n      uint var_138 = -var_135.x * emt_rotation.y + dot(var_135.yw, emt_rotation.zw);\n      uint var_140 = var_135.z * emt_rotation.x + (-var_135.w * emt_rotation.z + emt_rotation.w * var_135.y);\n      uint2 var_141 = emt_rotation.xy * var_135.yy;\n      uint var_143 = var_135.z * emt_rotation.w + (var_135.w * emt_rotation.y + -var_141.x);\n      uint var_145 = -var_135.z * emt_rotation.z + (-var_135.w * emt_rotation.x + -var_141.y);\n      uint var_151 = emt_rotation.z * var_140 + (-emt_rotation.y * var_143 + (emt_rotation.w * var_138 + var_145 * -emt_rotation.x));\n      uint var_157 = -emt_rotation.z * var_145 + (emt_rotation.y * var_138 + (emt_rotation.w * var_143 + var_140 * -emt_rotation.x));\n      uint4 var_158 = vectorfield_orientation.zwxy * (-emt_rotation.z * var_138 + (-emt_rotation.y * var_145 + (emt_rotation.w * var_140 + var_143 * -emt_rotation.x)));\n      uint var_160 = -var_157 * vectorfield_orientation.y + (var_151 * vectorfield_orientation.w + var_158.x);\n      uint var_162 = var_157 * vectorfield_orientation.x + (-var_151 * vectorfield_orientation.z + var_158.y);\n      uint var_164 = var_157 * vectorfield_orientation.w + (var_151 * vectorfield_orientation.y + -var_158.z);\n      uint var_166 = -var_157 * vectorfield_orientation.z + (-var_151 * vectorfield_orientation.x + -var_158.w);\n      uint var_172 = vectorfield_orientation.z * var_162 + (-vectorfield_orientation.y * var_164 + (vectorfield_orientation.w * var_160 + var_166 * -vectorfield_orientation.x));\n      uint var_175 = -vectorfield_orientation.z * var_160 + (-vectorfield_orientation.y * var_166 + (vectorfield_orientation.w * var_162 + var_164 * -vectorfield_orientation.x));\n      uint var_178 = -vectorfield_orientation.z * var_166 + (vectorfield_orientation.y * var_160 + (vectorfield_orientation.w * var_164 + var_162 * -vectorfield_orientation.x));\n      float4 var_184 = g_tex_vectorfield_atlas.SampleLevel(g_sam_vectorfield_atlas, (frac(((-vectorfield_position__skip_position_update_flag.xyz + uint3(var_172.x, var_175.x, var_178.x)) * 1.0 / emitData6.y * vectorfieldstrength_params__vectorfield_id__vectorfield_size.w + float3(0.5, 0.5, 0.5))) * (cb2[vectorfieldstrength_params__vectorfield_id__vectorfield_size.z + 0].xyz + cb2[vectorfieldstrength_params__vectorfield_id__vectorfield_size.z + 512].xyz) + cb2[vectorfieldstrength_params__vectorfield_id__vectorfield_size.z + 0].xyz), 0x0).xyzw;\n      float var_187 = -var_184.z * -vectorfield_orientation.y + (var_184.x * vectorfield_orientation.w + -vectorfield_orientation.z * var_184.y);\n      float var_189 = var_184.z * -vectorfield_orientation.x + dot(var_184.xy, vectorfield_orientation.zw);\n      float2 var_190 = -vectorfield_orientation.xy * var_184.yy;\n      float var_192 = var_184.z * vectorfield_orientation.w + (var_184.x * -vectorfield_orientation.y + -var_190.x);\n      float var_194 = -var_184.z * -vectorfield_orientation.z + (var_184.x * vectorfield_orientation.x + -var_190.y);\n      uint3 var_195 = float3(var_194.x, var_192.x, var_192.x) * vectorfield_orientation.xxw;\n      float var_198 = -vectorfield_orientation.z * var_189 + (vectorfield_orientation.y * var_192 + (vectorfield_orientation.w * var_187 + var_195.x));\n      float var_201 = vectorfield_orientation.z * var_187 + (vectorfield_orientation.y * var_194 + (vectorfield_orientation.w * var_189 + -var_195.y));\n      float var_204 = vectorfield_orientation.z * var_194 + (-vectorfield_orientation.y * var_187 + (vectorfield_orientation.x * var_189 + var_195.z));\n      float3 var_206 = -emt_rotation.zxy * var_201.xxx;\n      float var_208 = -var_204 * -emt_rotation.y + (var_198 * emt_rotation.w + var_206.x);\n      float var_210 = var_204 * -emt_rotation.x + (var_201 * emt_rotation.w + emt_rotation.z * var_198);\n      float var_212 = var_204 * emt_rotation.w + (var_198 * -emt_rotation.y + -var_206.y);\n      float var_214 = -var_204 * -emt_rotation.z + (var_198 * emt_rotation.x + -var_206.z);\n      float2 var_217 = var_212.xx * emt_rotation.xw;\n      float var_219 = -emt_rotation.z * var_210 + (emt_rotation.y * var_212 + (emt_rotation.w * var_208 + var_214 * emt_rotation.x));\n      float var_222 = emt_rotation.z * var_208 + (emt_rotation.y * var_214 + (emt_rotation.w * var_210 + -var_217.x));\n      float var_225 = emt_rotation.z * var_214 + (-emt_rotation.y * var_208 + (emt_rotation.x * var_210 + var_217.y));\n      float3 var_227 = -emitData4.zxy * var_222.xxx;\n      float var_229 = -var_225 * -emitData4.y + (var_219 * emitData4.w + var_227.x);\n      float var_231 = var_225 * -emitData4.x + (var_222 * emitData4.w + emitData4.z * var_219);\n      float var_233 = var_225 * emitData4.w + (var_219 * -emitData4.y + -var_227.y);\n      float var_235 = -var_225 * -emitData4.z + (var_219 * emitData4.x + -var_227.z);\n      float2 var_238 = var_233.xx * emitData4.xw;\n      float var_240 = -emitData4.z * var_231 + (emitData4.y * var_233 + (emitData4.w * var_229 + var_235 * emitData4.x));\n      float var_243 = emitData4.z * var_229 + (emitData4.y * var_235 + (emitData4.w * var_231 + -var_238.x));\n      float var_246 = emitData4.z * var_235 + (-emitData4.y * var_229 + (emitData4.x * var_231 + var_238.y));\n      float3 var_251 = emitData6.yyy * var_73.xxx * (var_104 * (-vectorfieldstrength_params__vectorfield_id__vectorfield_size.x + vectorfieldstrength_params__vectorfield_id__vectorfield_size.y) + vectorfieldstrength_params__vectorfield_id__vectorfield_size.x) * float3(var_240.x, var_243.x, var_246.x);\n    } else {\n    }\n    float var_257 = partData0.y * 0.0714 + 0.0357;\n    float var_258 = trunc(emitData6.x);\n    float3 var_263 = exp(var_51.w * g_tex_emitter_constants.SampleLevel(g_sam_emitter_constants, float4(var_104.x, var_257.x, var_258.x, var_104.x), 0x0).xyzw * 1.4427) * (partData2.xyz + (float3(emitData6.y, var_94.x, var_84.x) + (((sqrt(var_62) >= 0.01) & var_73.xxx * windDir * dot((-var_60 * xy__effected_by_wind_factor__wind_variance_factor.zzz + var_65) * float3(-2.0, -2.0, -2.0), windDir) * 0.005) + (var_51.w * emitData6.y * (var_77.z * (-xy__effected_by_wind_factor__wind_variance_factor.x + xy__effected_by_wind_factor__wind_variance_factor.y) + xy__effected_by_wind_factor__wind_variance_factor.x) * float3(0.0, -0.0981, 0.0) + ((0x0 < deceleration.x) & ((0x0 < var_84) & emitData6.yyy * rsqrt(var_86) * var_65 * -var_94.xxx))))));\n    float3 var_265 = vectorfield_position__skip_position_update_flag.www ? partData1.xyz : (var_263 * var_51.www + partData1.xyz);\n    if ((particle_following_emitter_mode__recycleclipped_box.x == 0x1)) {\n      float3 var_267 = var_51.xzy + var_265.xzy;\n    } else {\n      if ((particle_following_emitter_mode__recycleclipped_box.x == 0x2)) {\n        float4 var_270 = g_emitter_instances[uint4(emitterTc.x, emitterTc.y, 5, 0)].xyzw;\n        float4 var_272 = -emitData1.yzzx + (var_51.yzzx + var_265.yzzx);\n        float var_275 = -var_272.y * -var_270.y + (var_272.w * var_270.w + -var_270.z * var_272.x);\n        float var_277 = var_272.z * -var_270.x + dot(var_272.wx, var_270.zw);\n        float2 var_278 = -var_270.xy * var_272.xx;\n        float var_280 = var_272.z * var_270.w + (var_272.w * -var_270.y + -var_278.x);\n        float var_282 = -var_272.z * -var_270.z + (var_272.w * var_270.x + -var_278.y);\n        float2 var_285 = var_280.xx * var_270.xw;\n        float var_287 = -var_270.z * var_277 + (var_270.y * var_280 + (var_270.w * var_275 + var_270.x * var_282));\n        float var_290 = var_270.z * var_275 + (var_270.y * var_282 + (var_270.w * var_277 + -var_285.x));\n        float var_293 = var_270.z * var_282 + (-var_270.y * var_275 + (var_270.x * var_277 + var_285.y));\n        float var_296 = -var_263.z * -var_270.y + (var_263.x * var_270.w + var_263.y * -var_270.z);\n        float var_298 = var_263.z * -var_270.x + dot(var_263.xy, var_270.zw);\n        float2 var_299 = var_263.yy * -var_270.xy;\n        float var_301 = var_263.z * var_270.w + (var_263.x * -var_270.y + -var_299.x);\n        float var_303 = -var_263.z * -var_270.z + (var_263.x * var_270.x + -var_299.y);\n        float2 var_306 = var_301.xx * var_270.xw;\n        float var_308 = -var_270.z * var_298 + (var_270.y * var_301 + (var_270.w * var_296 + var_270.x * var_303));\n        float var_311 = var_270.z * var_296 + (var_270.y * var_303 + (var_270.w * var_298 + -var_306.x));\n        float var_314 = var_270.z * var_303 + (-var_270.y * var_296 + (var_270.x * var_298 + var_306.y));\n        float3 var_315 = emitData1.xzy + float3(var_287.x, var_293.x, var_290.x);\n      } else {\n        float3 var_324 = (particle_following_emitter_mode__recycleclipped_box.x == 0x3) ? (emitData1.xyz + (frac(((-emitData1.xyz + var_265) / particle_following_emitter_mode__recycleclipped_box.yzw + float3(0.5, 0.5, 0.5))) * particle_following_emitter_mode__recycleclipped_box.yzw + particle_following_emitter_mode__recycleclipped_box.yzw * float3(0.5, 0.5, 0.5))) : var_265.xzy;\n      }\n    }\n    if (particle_following_terrain__emt_position.x) {\n      float2 var_325 = partData1.xy * sea_surface_data.xy;\n      float2 var_326 = sea_anim_data.zw;\n      uint4 var_327 = g_tex_sea_surface_anim.SampleLevel(g_sam_terrain_surface, float4(var_325.x, var_325.y, var_326.x, var_325.x), 0x0).xyzw;\n      float var_332 = max(partData1.z, ((sea_anim_data.x * (-var_327.x + g_tex_sea_surface_anim.SampleLevel(g_sam_terrain_surface, float4(var_325.x, var_325.y, var_326.y, var_325.x), 0x0).xyzw) + var_327.x) * sea_surface_data.x + sea_surface_data.x));\n    }\n    if ((var_53.w < dot(var_53.xyz, (-emitData1.xyz + partData1.xzy)))) {\n      o1 = uint4(0, 0, 0, 0);\n      o2 = uint4(0, 0, 0, 0);\n      o3 = uint4(0, 0, 0, 0);\n      o4 = uint4(0, 0, 0, 0);\n      o0 = uint2(0, 0);\n    } else {\n      float var_340 = -partData4.z * partData3.y + dot(partData4.yx, partData3.zw);\n      float var_342 = partData4.z * partData3.x + (partData4.y * partData3.w + partData3.z * partData4.x);\n      float var_345 = partData4.z * partData3.w + (partData4.x * partData3.y + partData3.x * partData4.y);\n      float var_348 = -partData4.z * partData3.z + (-partData4.x * partData3.x + partData3.y * partData4.y);\n      float4 var_349 = var_51.w * 0.5 * float4(var_340.x, var_342.x, var_345.x, var_348.x) + partData3;\n      o3 = rsqrt(dot(var_349, var_349)) * var_349;\n      o1 = partData1.xzyw;\n      o2 = float4(var_263.x, var_263.y, var_263.z, partData2.w);\n      o4 = partData4;\n      o0 = partData0.yw;\n    }\n  } else {\n    o1 = uint4(0, 0, 0, 0);\n    o2 = uint4(0, 0, 0, 0);\n    o3 = uint4(0, 0, 0, 0);\n    o4 = uint4(0, 0, 0, 0);\n    o0 = uint2(0, 0);\n  }\n} else {\n  o1 = partData1;\n  o2 = partData2;\n  o3 = partData3;\n  o4 = partData4;\n  o0 = partData0.yw;\n}\no0 = asfloat(int2(-1, emitter_id.x));\nreturn\n"
     ]
    }
   ],
   "source": [
    "import readShader\n",
    "import importlib\n",
    "importlib.reload(readShader)\n",
    "\n",
    "inputs = {\n",
    "    \"g_particle_instance_tex_width\": readShader._FLOAT,\n",
    "    \"g_emitter_instance_tex_width\": readShader._FLOAT,\n",
    "    \"vfx_camera_position\": readShader._FLOAT,\n",
    "    \"v0\" : readShader._FLOAT,\n",
    "    \"wind_variance_dir\": readShader._FLOAT,\n",
    "    \"wind_velocity\": readShader._FLOAT,\n",
    "    \"sea_surface_data\": readShader._FLOAT,\n",
    "    \"sea_anim_data\": readShader._FLOAT\n",
    "}\n",
    "var_names = {\n",
    "    \"var_1\": \"texelCoord\",\n",
    "    \"var_11\": \"emitter_id\",\n",
    "    \"var_13\": \"emitter_idx\",\n",
    "    \"var_22\": \"emitterTc\",\n",
    "    \"var_3\": \"partData0\",\n",
    "    \"var_4\": \"partData1\",\n",
    "    \"var_6\": \"partData2\",\n",
    "    \"var_8\": \"partData3\",\n",
    "    \"var_10\": \"partData4\",\n",
    "    \"var_24\": \"emitData1\",\n",
    "    \"var_25\": \"emitData6\",\n",
    "    \"var_27\": \"particles_loop_params\",\n",
    "    \"var_54\": \"particle_following_terrain__emt_position\",\n",
    "    \"var_55\": \"xy__effected_by_wind_factor__wind_variance_factor\",\n",
    "    \"var_56\": \"decel_start_time__decel_factor\",\n",
    "    \"var_57\": \"particle_following_emitter_mode__recycleclipped_box\",\n",
    "    \"var_58\": \"vectorfieldstrength_params__vectorfield_id__vectorfield_size\",\n",
    "    \"var_59\": \"vectorfield_position__skip_position_update_flag\",\n",
    "    \"var_61\": \"windVel\",\n",
    "    \"var_68\": \"windDir\",\n",
    "    \"var_79\": \"deceleration\",\n",
    "    \"var_107\": \"emitData4\",\n",
    "    \"var_108\": \"emt_rotation\",\n",
    "    \"var_109\": \"vectorfield_orientation\",\n",
    "}\n",
    "with open(\"shaders/warhammer2.txt\", \"r\") as fin:\n",
    "    hlsl_code = fin.read()\n",
    "    print(readShader.dxil_transform(hlsl_code, inputs, var_names))"
   ]
  },
  {
   "cell_type": "code",
   "execution_count": 34,
   "metadata": {},
   "outputs": [
    {
     "output_type": "stream",
     "name": "stdout",
     "text": [
      "float4 uvz = v0.xyzw * PerDrawCall.CameraDistFogParams.xyzw + PerDrawCall.FixedPointDistFogParams.xyzw;\nfloat depth = GlobalDepthBuffer.Sample(GlobalDepthBufferSampler, uvz.z).x;\nif (((depth == 1.0) & (cb0[16].y < 1.0))) discard;\nfloat4 emissionColor = $EmissiveTex.Sample($EmissiveTexSampler, uvz.zwzz).xyzw;\nfloat3 var_11 = float3(uvz.x, uvz.y, 1.0) / (depth * PerDrawCall.FixedPointDistFogPos.w + PerDrawCall.FixedPointDistFogPos.w);\nfloat4 camRelPos = (PerFrame.InvViewMatrix[1].xyzw * var_11.zzzz + (PerFrame.InvTViewMatrix[2].xyzw * var_11.xxxx + var_11.yyyy * PerFrame.InvViewMatrix[0].xyzw)) + PerFrame.InvViewMatrix[2].xyzw;\nfloat3 var_18 = -PerFrame.GlobalPosDecodingParams.xyz;\nfloat4 worldPos = camRelPos + float4(var_18.x, var_18.y, var_18.z, -1.0);\nfloat dist = max((length(worldPos) + -PerFrame.GlobalGBufferOffset.x), 0x0) * PerFrame.GlobalGBufferOffset.x;\nfloat var_35 = max((sqrt(dot(float4(var_11.x, var_11.y, var_11.z, 1.0), float4(var_11.x, var_11.y, var_11.z, 1.0))) + -PerFrame.GlobalGBufferScale.x), 0x0) * PerFrame.GlobalGBufferScale.x;\nfloat var_40 = max(1.0 / exp(dist * dist * 1.4427), PerFrame.GlobalGBufferOffset.y);\nfloat var_41 = max(1.0 / exp(var_35 * var_35 * 1.4427), PerFrame.GlobalGBufferScale.x);\nfloat2 var_42 = -float2(var_41.x, var_40.x) + float2(1.0, 1.0);\no0 = (max(min((saturate(var_42.y * PerFrame.GlobalGBufferOffset.x + var_42.x * PerFrame.GlobalGBufferScale.x) + 1.0), max((camRelPos.y * PerFrame.InvViewMatrix[3].x + PerFrame.InvViewMatrix[3].x), PerFrame.InvViewMatrix[3].x)), 0x0) * (-cb0[10].xyz * cb0[16].xyz + ($LightBuffer1.Sample($LightBuffer1Sampler, uvz.wzz).xyz * float3(1024.0, 1024.0, 1024.0) + emissionColor.www * emissionColor.xyz)) + cb0[10].yzw * cb0[16].yzw) * float3(0.001, 0.001, 0.001);\no0 = 1.0;\nreturn\n"
     ]
    }
   ],
   "source": [
    "import readShader\n",
    "import importlib\n",
    "importlib.reload(readShader)\n",
    "\n",
    "inputs = {\n",
    "    \"v0\": readShader._FLOAT,\n",
    "    \"PerDrawCall.CameraDistFogParams\": readShader._FLOAT,\n",
    "    \"PerDrawCall.FixedPointDistFogParams\": readShader._FLOAT,\n",
    "    \"cb0[16]\": readShader._FLOAT,\n",
    "    \"PerDrawCall.FixedPointDistFogPos\": readShader._FLOAT,\n",
    "    \"PerFrame.InvViewMatrix[0]\": readShader._FLOAT,\n",
    "    \"PerFrame.InvTViewMatrix[2]\": readShader._FLOAT,\n",
    "    \"PerFrame.InvViewMatrix[1]\": readShader._FLOAT,\n",
    "    \"PerFrame.InvViewMatrix[2]\": readShader._FLOAT,\n",
    "    \"PerFrame.InvViewMatrix[3]\": readShader._FLOAT,\n",
    "    \"PerFrame.GlobalPosDecodingParams\": readShader._FLOAT,\n",
    "    \"PerFrame.GlobalGBufferOffset\": readShader._FLOAT,\n",
    "    \"PerFrame.GlobalGBufferScale\": readShader._FLOAT,\n",
    "    \"cb0[10]\": readShader._FLOAT,\n",
    "}\n",
    "var_names = {\n",
    "    \"var_0\": \"uvz\",\n",
    "    \"var_1\": \"depth\",\n",
    "    \"var_6\": \"emissionColor\",\n",
    "    \"var_15\": \"camRelPos\",\n",
    "    \"var_20\": \"worldPos\",\n",
    "    \"var_25\": \"dist\",\n",
    "}\n",
    "with open(\"shaders/frostpunk_emission.txt\", \"r\") as fin:\n",
    "    hlsl_code = fin.read()\n",
    "    print(readShader.dxil_transform(hlsl_code, inputs, var_names))"
   ]
  },
  {
   "cell_type": "code",
   "execution_count": 73,
   "metadata": {},
   "outputs": [
    {
     "output_type": "stream",
     "name": "stdout",
     "text": [
      "float4 ambientColor = $AlbedoTexture.Sample($AlbedoSampler, v1.xyzw).xyzw;\nif (((ambientColor.w * v2.x * PerObject.ComboDesaturationAlphaTest.x + PerObject.ComboDesaturationAlphaTest.x) < 0x0)) discard;\nfloat4 particleParams = v6.xyzw * (-ambientColor + $AlbedoTexture.Sample($AlbedoSampler, v1.xyzw).xyzw) + ambientColor;\nfloat var_7 = -v2.x + 1.0;\nbool var_10 = 0x0 < PerObject.AlphaBasedAnimationEnabledBlendZone.z;\nif ((var_10 & ((particleParams.w + -var_7) < 0x0))) discard;\no0 = var_10 ? ((0x0 == PerObject.AlphaBasedAnimationEnabledBlendZone.y) ? 1.0 : (-var_7 + min(particleParams.w, saturate(var_7 + PerObject.AlphaBasedAnimationEnabledBlendZone.y))) / PerObject.AlphaBasedAnimationEnabledBlendZone.x) : particleParams.w * v2.w;\nfloat2 var_23 = exp(log(abs(particleParams.yx)) * float2(0.4545, 0.4545)) * float2(2.0, 2.0) + float2(-1.0, -1.0);\nfloat3 lightingDir = v8.xyz * sqrt(max((dot(var_23, var_23) + 1.0), 0.0001)) + (v9.xyz * var_23.yyy + var_23.xxx * v10.xyz);\nfloat3 lightingDirNorm = rsqrt(dot(lightingDir, lightingDir)) * lightingDir;\nfloat var_34 = dot(lightingDirNorm, PerObject.InvCustomSunDirVS.xyz);\nfloat4 var_38 = min(max((var_34.xxxx + float4(-0.25, 0.25, -0.5, 0.5)), float4(0.02, 0.02, 0.02, 0.02)), float4(1.0, 1.0, 1.0, 1.0));\nfloat var_49 = dot(lightingDirNorm, PerObject.InvSunDirVS.xyz);\nfloat4 var_53 = min(max((var_49.xxxx + float4(-0.25, 0.25, -0.5, 0.5)), float4(0.02, 0.02, 0.02, 0.02)), float4(1.0, 1.0, 1.0, 1.0));\nfloat var_66 = (min(max(PerFrame.InvSunDiffuseDirection.w, 0.01), 0.15) + -0.01) * 7.1429;\nfloat var_67 = var_66 * var_66;\n$AmbientCube.GetDimensions(0x0, var_67);\nfloat3 var_71 = $AmbientCube.SampleLevel($AmbientCubeSampler, lightingDirNorm, (var_67 + -1.0)).xyz * float3(1024.0, 1024.0, 1024.0);\no0 = (particleParams.zzz * v4.xyz * PerFrame.DirLightIlluminanceAndExposureAndInvExposure.xyz + (var_71 * v5.xyz + (var_71 * v5.xyz + ((var_53.w + (var_53.z + (var_53.y + (var_53.x + min(max(var_49, 0.02), 1.0))))) * 0.2 * PerFrame.DirLightColorAlphaOverdraw.xyz * PerFrame.DirLightIlluminanceAndExposureAndInvExposure.xyz * v2.xyz * var_67.xxx + (var_38.w + (var_38.z + (var_38.y + (var_38.x + min(max(var_34, 0.02), 1.0))))) * 0.2 * PerObject.CustomSunColorAndIlluminance.xyz * PerObject.CustomSunColorAndIlluminance.xyz * v5.xyz * v2.xyz)))) * float3(0.001, 0.001, 0.001);\nreturn\n"
     ]
    }
   ],
   "source": [
    "import readShader\n",
    "import importlib\n",
    "importlib.reload(readShader)\n",
    "\n",
    "inputs = {\n",
    "    \"v0\": readShader._FLOAT,\n",
    "    \"v1\": readShader._FLOAT,\n",
    "    \"v2\": readShader._FLOAT,\n",
    "    \"v6\": readShader._FLOAT,\n",
    "    \"v4\": readShader._FLOAT,\n",
    "    \"v10\": readShader._FLOAT,\n",
    "    \"v9\": readShader._FLOAT,\n",
    "    \"v8\": readShader._FLOAT,\n",
    "    \"v5\": readShader._FLOAT,\n",
    "    \"PerDrawCall.CameraDistFogParams\": readShader._FLOAT,\n",
    "    \"PerDrawCall.FixedPointDistFogParams\": readShader._FLOAT,\n",
    "    \"cb0[16]\": readShader._FLOAT,\n",
    "    \"PerDrawCall.FixedPointDistFogPos\": readShader._FLOAT,\n",
    "    \"PerFrame.InvViewMatrix[0]\": readShader._FLOAT,\n",
    "    \"PerFrame.InvTViewMatrix[2]\": readShader._FLOAT,\n",
    "    \"PerFrame.InvViewMatrix[1]\": readShader._FLOAT,\n",
    "    \"PerFrame.InvViewMatrix[2]\": readShader._FLOAT,\n",
    "    \"PerFrame.InvViewMatrix[3]\": readShader._FLOAT,\n",
    "    \"PerFrame.GlobalPosDecodingParams\": readShader._FLOAT,\n",
    "    \"PerFrame.GlobalGBufferOffset\": readShader._FLOAT,\n",
    "    \"PerFrame.GlobalGBufferScale\": readShader._FLOAT,\n",
    "    \"cb0[10]\": readShader._FLOAT,\n",
    "    \"PerObject.ComboDesaturationAlphaTest\": readShader._FLOAT,\n",
    "    \"PerObject.AlphaBasedAnimationEnabledBlendZone\": readShader._FLOAT,\n",
    "    \"PerObject.InvCustomSunDirVS\": readShader._FLOAT,\n",
    "    \"PerObject.CustomSunColorAndIlluminance\": readShader._FLOAT,\n",
    "    \"PerObject.InvSunDirVS\": readShader._FLOAT,\n",
    "    \"PerFrame.DirLightColorAlphaOverdraw\": readShader._FLOAT,\n",
    "    \"PerFrame.DirLightIlluminanceAndExposureAndInvExposure\": readShader._FLOAT,\n",
    "    \"PerFrame.InvSunDiffuseDirection\": readShader._FLOAT,\n",
    "}\n",
    "var_names = {\n",
    "    \"var_0\": \"ambientColor\",\n",
    "    \"var_6\": \"particleParams\",\n",
    "    \"var_30\": \"lightingDir\",\n",
    "    \"var_33\": \"lightingDirNorm\",\n",
    "}\n",
    "with open(\"shaders/frostpunk_particle.txt\", \"r\") as fin:\n",
    "    hlsl_code = fin.read()\n",
    "    print(readShader.dxil_transform(hlsl_code, inputs, var_names))"
   ]
  },
  {
   "cell_type": "code",
   "execution_count": 67,
   "metadata": {},
   "outputs": [
    {
     "output_type": "stream",
     "name": "stdout",
     "text": [
      "float2 var_0 = v0.xy * v2.xy;\nfloat2 var_1 = floor(var_0);\nfloat var_2 = var_1.y * 113.0 + var_1.x;\nsincos(var_1.y, null.xyzw, var_2);\nfloat3 var_3 = var_2.xxx + float3(1.0, 113.0, 114.0);\nsincos(var_3, null.xyzw, var_3);\nfloat3 var_5 = frac(var_3 * float3(43758.5469, 43758.5469, 43758.5469));\nfloat var_6 = var_1.y * 43758.5469;\nUNKNOWN3 var_7 = frac(float3(var_0.x, var_0.y, var_6.x));\nfloat2 var_11 = (-var_7.xy * float2(2.0, 2.0) + float2(3.0, 3.0)) * var_7.xy * var_7.xy;\nfloat var_12 = var_11.x * (-var_7.z + var_5.x) + var_7.z;\nfloat var_17 = $MainTexture.Sample($MainTextureSampler, v1.y).w;\nfloat2 var_22 = v1.zw + float2(-0.5, -0.5);\nfloat var_27 = saturate(1.0 / -v2.w * (length(var_22) + -0.5));\nfloat var_30 = var_27 * var_27 * (var_27 * -2.0 + 3.0);\no0 = -var_17 * v2.y * var_30 + var_30 * (-var_17 + 1.0) * (var_11.y * (-var_12 + (var_11.x * (-var_5.y + var_5.z) + var_5.y)) + var_12) * v2.x * v2.x;\no0 = v2.yzw;\nreturn\n"
     ]
    }
   ],
   "source": [
    "import readShader\n",
    "import importlib\n",
    "importlib.reload(readShader)\n",
    "\n",
    "inputs = {\n",
    "    \"v0\": readShader._FLOAT,\n",
    "    \"v1\": readShader._FLOAT,\n",
    "    \"v2\": readShader._FLOAT,\n",
    "    \"v6\": readShader._FLOAT,\n",
    "    \"v4\": readShader._FLOAT,\n",
    "    \"v10\": readShader._FLOAT,\n",
    "    \"v9\": readShader._FLOAT,\n",
    "    \"v8\": readShader._FLOAT,\n",
    "    \"v5\": readShader._FLOAT,\n",
    "    \"PerDrawCall.CameraDistFogParams\": readShader._FLOAT,\n",
    "    \"PerDrawCall.FixedPointDistFogParams\": readShader._FLOAT,\n",
    "    \"cb0[16]\": readShader._FLOAT,\n",
    "    \"PerDrawCall.FixedPointDistFogPos\": readShader._FLOAT,\n",
    "    \"PerFrame.InvViewMatrix[0]\": readShader._FLOAT,\n",
    "    \"PerFrame.InvTViewMatrix[2]\": readShader._FLOAT,\n",
    "    \"PerFrame.InvViewMatrix[1]\": readShader._FLOAT,\n",
    "    \"PerFrame.InvViewMatrix[2]\": readShader._FLOAT,\n",
    "    \"PerFrame.InvViewMatrix[3]\": readShader._FLOAT,\n",
    "    \"PerFrame.GlobalPosDecodingParams\": readShader._FLOAT,\n",
    "    \"PerFrame.GlobalGBufferOffset\": readShader._FLOAT,\n",
    "    \"PerFrame.GlobalGBufferScale\": readShader._FLOAT,\n",
    "    \"cb0[10]\": readShader._FLOAT,\n",
    "    \"PerObject.ComboDesaturationAlphaTest\": readShader._FLOAT,\n",
    "    \"PerObject.AlphaBasedAnimationEnabledBlendZone\": readShader._FLOAT,\n",
    "    \"PerObject.InvCustomSunDirVS\": readShader._FLOAT,\n",
    "    \"PerObject.CustomSunColorAndIlluminance\": readShader._FLOAT,\n",
    "    \"PerObject.InvSunDirVS\": readShader._FLOAT,\n",
    "    \"PerFrame.DirLightColorAlphaOverdraw\": readShader._FLOAT,\n",
    "    \"PerFrame.DirLightIlluminanceAndExposureAndInvExposure\": readShader._FLOAT,\n",
    "    \"PerFrame.InvSunDiffuseDirection\": readShader._FLOAT,\n",
    "    \"null\": readShader._FLOAT,\n",
    "}\n",
    "var_names = {\n",
    "}\n",
    "with open(\"shaders/frostpunk_heightmap1.txt\", \"r\") as fin:\n",
    "    hlsl_code = fin.read()\n",
    "    print(readShader.dxil_transform(hlsl_code, inputs, var_names))"
   ]
  },
  {
   "cell_type": "code",
   "execution_count": 70,
   "metadata": {},
   "outputs": [
    {
     "output_type": "stream",
     "name": "stdout",
     "text": [
      "float2 var_5 = $HeightMaskTexture.Sample($HeightMaskTextureSampler, v1.yz).xy;\no0 = min(min($HeightmapReferenceTexture.Sample($HeightmapReferenceSampler, v1.z).x, saturate($HeightBaseTexture.Sample($HeightBaseTextureSampler, v1.y).x)), max((saturate(saturate($SnowfallTexture.Sample($SnowfallTextureSampler, (v1.xy * v2.xy + (v3.xy + v3.xy) * v3.xy)).w + 0.5) * v2.x + max(var_5.y, var_5.x)) + $MainTexture.Sample($MainTextureSampler, v1.y).x), 0x0));\no0 = v2.yzw;\nreturn\n"
     ]
    }
   ],
   "source": [
    "import readShader\n",
    "import importlib\n",
    "importlib.reload(readShader)\n",
    "\n",
    "inputs = {\n",
    "    \"v0\": readShader._FLOAT,\n",
    "    \"v1\": readShader._FLOAT,\n",
    "    \"v2\": readShader._FLOAT,\n",
    "    \"v6\": readShader._FLOAT,\n",
    "    \"v4\": readShader._FLOAT,\n",
    "    \"v10\": readShader._FLOAT,\n",
    "    \"v9\": readShader._FLOAT,\n",
    "    \"v8\": readShader._FLOAT,\n",
    "    \"v5\": readShader._FLOAT,\n",
    "    \"v3\": readShader._FLOAT,\n",
    "    \"PerDrawCall.CameraDistFogParams\": readShader._FLOAT,\n",
    "    \"PerDrawCall.FixedPointDistFogParams\": readShader._FLOAT,\n",
    "    \"cb0[16]\": readShader._FLOAT,\n",
    "    \"PerDrawCall.FixedPointDistFogPos\": readShader._FLOAT,\n",
    "    \"PerFrame.InvViewMatrix[0]\": readShader._FLOAT,\n",
    "    \"PerFrame.InvTViewMatrix[2]\": readShader._FLOAT,\n",
    "    \"PerFrame.InvViewMatrix[1]\": readShader._FLOAT,\n",
    "    \"PerFrame.InvViewMatrix[2]\": readShader._FLOAT,\n",
    "    \"PerFrame.InvViewMatrix[3]\": readShader._FLOAT,\n",
    "    \"PerFrame.GlobalPosDecodingParams\": readShader._FLOAT,\n",
    "    \"PerFrame.GlobalGBufferOffset\": readShader._FLOAT,\n",
    "    \"PerFrame.GlobalGBufferScale\": readShader._FLOAT,\n",
    "    \"cb0[10]\": readShader._FLOAT,\n",
    "    \"PerObject.ComboDesaturationAlphaTest\": readShader._FLOAT,\n",
    "    \"PerObject.AlphaBasedAnimationEnabledBlendZone\": readShader._FLOAT,\n",
    "    \"PerObject.InvCustomSunDirVS\": readShader._FLOAT,\n",
    "    \"PerObject.CustomSunColorAndIlluminance\": readShader._FLOAT,\n",
    "    \"PerObject.InvSunDirVS\": readShader._FLOAT,\n",
    "    \"PerFrame.DirLightColorAlphaOverdraw\": readShader._FLOAT,\n",
    "    \"PerFrame.DirLightIlluminanceAndExposureAndInvExposure\": readShader._FLOAT,\n",
    "    \"PerFrame.InvSunDiffuseDirection\": readShader._FLOAT,\n",
    "    \"null\": readShader._FLOAT,\n",
    "}\n",
    "var_names = {\n",
    "}\n",
    "with open(\"shaders/frostpunk_heightmap2.txt\", \"r\") as fin:\n",
    "    hlsl_code = fin.read()\n",
    "    print(readShader.dxil_transform(hlsl_code, inputs, var_names))"
   ]
  },
  {
   "cell_type": "code",
   "execution_count": null,
   "metadata": {},
   "outputs": [],
   "source": []
  }
 ]
}