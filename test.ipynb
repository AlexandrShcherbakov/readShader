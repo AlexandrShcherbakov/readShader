{
 "metadata": {
  "language_info": {
   "codemirror_mode": {
    "name": "ipython",
    "version": 3
   },
   "file_extension": ".py",
   "mimetype": "text/x-python",
   "name": "python",
   "nbconvert_exporter": "python",
   "pygments_lexer": "ipython3",
   "version": "3.6.3"
  },
  "orig_nbformat": 2,
  "kernelspec": {
   "name": "python363jvsc74a57bd05aff0f4242e434ecf1c75fb5b293d4fa39ddc1cc7e79f0726434658d3f3938cc",
   "display_name": "Python 3.6.3 64-bit"
  }
 },
 "nbformat": 4,
 "nbformat_minor": 2,
 "cells": [
  {
   "cell_type": "code",
   "execution_count": 3,
   "metadata": {},
   "outputs": [],
   "source": [
    "hlsl_code = \"\"\"Shader hash bcf4c0cd-2a2bf5c5-942ac464-77cca175\n",
    "\n",
    "cs_5_0|\n",
    "      dcl_globalFlags refactoringAllowed\n",
    "      dcl_constantbuffer cb0[2], immediateIndexed\n",
    "      dcl_resource_texture2darray (float,float,float,float) g_emitter_instances (t0)\n",
    "      dcl_resource_texture2darray (float,float,float,float) g_particle_instances (t1)\n",
    "      dcl_resource_structured g_emitter_constant_buffer_prepare_sortdata (t2), 16\n",
    "      dcl_uav_structured g_rw_sorted_data_buffer (u0), 8\n",
    "      dcl_uav_raw g_draw_indirect_buffer (u1)\n",
    "      dcl_input vThreadID.xy\n",
    "      dcl_temps 3\n",
    "      dcl_thread_group 16, 16, 1\n",
    "   0: utof r0.xy, vThreadID.xyxx\n",
    "   1: mad r0.x, r0.y, g_particle_instance_tex_width.x, r0.x\n",
    "   2: ftou r0.x, r0.x\n",
    "   3: mov r1.xy, vThreadID.xyxx\n",
    "   4: mov r1.w, l(0)\n",
    "   5: ld_indexable(texture2darray)(float,float,float,float) r0.y, r1.xyww, g_particle_instances.yxzw\n",
    "   6: ftoi r0.y, r0.y\n",
    "   7: ine r0.z, r0.y, l(-1)\n",
    "   8: if_nz r0.z\n",
    "   9:   mov r1.z, l(1)\n",
    "  10:   ld_indexable(texture2darray)(float,float,float,float) r1.xyz, r1.xyzw, g_particle_instances.xyzw\n",
    "  11:   utof r0.y, r0.y\n",
    "  12:   mul r0.z, r0.y, g_emitter_instance_tex_width.x\n",
    "  13:   ge r0.z, r0.z, -r0.z\n",
    "  14:   movc r0.z, r0.z, g_emitter_instance_tex_width.x, -g_emitter_instance_tex_width.x\n",
    "  15:   div r0.w, l(1.0000, 1.0000, 1.0000, 1.0000), r0.z\n",
    "  16:   mul r0.w, r0.w, r0.y\n",
    "  17:   frc r0.w, r0.w\n",
    "  18:   mul r0.z, r0.w, r0.z\n",
    "  19:   div r0.y, r0.y, g_emitter_instance_tex_width.x\n",
    "  20:   ftou r2.xy, r0.zyzz\n",
    "  21:   mov r2.zw, l(0, 0, 3, 0)\n",
    "  22:   ld_indexable(texture2darray)(float,float,float,float) r0.y, r2.xyzw, g_emitter_instances.yxzw\n",
    "  23:   ftoi r0.y, r0.y\n",
    "  24:   ld_structured_indexable(structured_buffer, stride=16)(mixed,mixed,mixed,mixed) r0.y, r0.y, l(0), g_emitter_constant_buffer_prepare_sortdata.xxxx\n",
    "  25:   and r0.z, r0.y, l(0x00100000)\n",
    "  26:   if_nz r0.z\n",
    "  27:     add r2.xyz, r1.xyzx, -vfx_camera_position.xyzx\n",
    "  28:     dp3 r0.z, r2.xyzx, r2.xyzx\n",
    "  29:     sqrt r0.z, r0.z\n",
    "  30:     min r0.z, r0.z, l(999999.0000)\n",
    "  31:     add r2.x, r0.z, l(-1000000.0000)\n",
    "  32:     atomic_iadd g_draw_indirect_buffer, l(16), l(1)\n",
    "  33:   else\n",
    "  34:     and r0.y, r0.y, l(0x00400000)\n",
    "  35:     if_nz r0.y\n",
    "  36:       mad r0.y, r1.y, l(10000000000.0000), r1.x\n",
    "  37:       min r0.y, r0.y, l(100000002004087740000.0000)\n",
    "  38:       add r2.x, r0.y, l(-100000002004087740000.0000)\n",
    "  39:       atomic_iadd g_draw_indirect_buffer, l(0), l(1)\n",
    "  40:     else\n",
    "  41:       add r0.yzw, r1.xxyz, -vfx_camera_position.xxyz\n",
    "  42:       dp3 r0.y, r0.yzwy, r0.yzwy\n",
    "  43:       sqrt r0.y, r0.y\n",
    "  44:       min r2.x, r0.y, l(999999.0000)\n",
    "  45:       atomic_iadd g_draw_indirect_buffer, l(32), l(1)\n",
    "  46:     endif\n",
    "  47:   endif\n",
    "  48: else\n",
    "  49:   mov r2.x, l(100000002004087740000.0000)\n",
    "  50: endif\n",
    "  51: utof r2.y, r0.x\n",
    "  52: store_structured g_rw_sorted_data_buffer.xy, r0.x, l(0), r2.xyxx\n",
    "  53: ret\n",
    "\"\"\""
   ]
  },
  {
   "cell_type": "code",
   "execution_count": 64,
   "metadata": {},
   "outputs": [
    {
     "output_type": "execute_result",
     "data": {
      "text/plain": [
       "<module 'readShader' from 'd:\\\\Projects\\\\readShader\\\\readShader.py'>"
      ]
     },
     "metadata": {},
     "execution_count": 64
    }
   ],
   "source": [
    "import readShader\n",
    "import importlib\n",
    "importlib.reload(readShader)"
   ]
  },
  {
   "cell_type": "code",
   "execution_count": 65,
   "metadata": {},
   "outputs": [
    {
     "output_type": "stream",
     "name": "stdout",
     "text": [
      "uint2 var_19;\nfloat2 var_0 = asfloat(vThreadID.xy);\nuint var_2 = asuint((var_0.y * g_particle_instance_tex_width.x + var_0.x));\nuint2 var_3 = vThreadID.xy;\nuint var_4 = 0x0;\nint var_6 = asint((g_particle_instances[uint3(var_3.x, var_3.y, var_4)].x));\nif ((var_6 != -0x1)) {\n  uint var_8 = 0x1;\n  float3 var_9 = g_particle_instances[uint3(var_3.x, var_3.y, var_8)].xyz;\n  float var_10 = asfloat(var_6);\n  float var_11 = var_10 * g_emitter_instance_tex_width.z;\n  float var_13 = (var_11 >= -var_11) ? g_emitter_instance_tex_width.z : -g_emitter_instance_tex_width.z;\n  float var_17 = (frac(((1.0 / var_13) * var_10))) * var_13;\n  float var_18 = var_10 / g_emitter_instance_tex_width.y;\n  var_19 = asuint(float2(var_17, var_18));\n  uint2 var_20 = uint2(3, 0);\n  uint var_23 = g_emitter_constant_buffer_prepare_sortdata[(asint((g_emitter_instances[uint3(var_19.x, var_19.y, var_20.x)].x))) + 0x0].x;\n  if ((var_23 & 0x100000)) {\n    float3 var_25 = var_9 + -vfx_camera_position.xyz;\n    var_19 = (min((length(var_25)), 999999.0)) + -1000000.0;\n    InterlockedAdd(g_draw_indirect_buffer[0x10], 0x1);\n  } else {\n    if ((var_23 & 0x400000)) {\n      var_19 = (min((var_9.y * 10000000000.0 + var_9.x), 1.0000000200408773e+20)) + -1.0000000200408773e+20;\n      InterlockedAdd(g_draw_indirect_buffer[0x0], 0x1);\n    } else {\n      float3 var_34 = var_9 + -vfx_camera_position.yzw;\n      var_19 = min((length(var_34)), 999999.0);\n      InterlockedAdd(g_draw_indirect_buffer[0x20], 0x1);\n    }\n  }\n} else {\n  var_19 = 1.0000000200408773e+20;\n}\nfloat var_39 = asfloat(var_2);\ng_rw_sorted_data_buffer[var_2 + 0x0].xy = float2(var_19.x, var_39);\nreturn\n"
     ]
    }
   ],
   "source": [
    "inputs = {\n",
    "    \"g_particle_instance_tex_width\": readShader._FLOAT,\n",
    "    \"g_emitter_instance_tex_width\": readShader._FLOAT,\n",
    "    \"vfx_camera_position\": readShader._FLOAT,\n",
    "}\n",
    "print(readShader.dxil_transform(hlsl_code, inputs))"
   ]
  },
  {
   "cell_type": "code",
   "execution_count": null,
   "metadata": {},
   "outputs": [],
   "source": []
  },
  {
   "cell_type": "code",
   "execution_count": null,
   "metadata": {},
   "outputs": [],
   "source": []
  }
 ]
}